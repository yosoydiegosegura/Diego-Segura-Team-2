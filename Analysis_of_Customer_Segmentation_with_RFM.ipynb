{
  "nbformat": 4,
  "nbformat_minor": 0,
  "metadata": {
    "colab": {
      "provenance": [],
      "toc_visible": true,
      "include_colab_link": true
    },
    "kernelspec": {
      "name": "python3",
      "display_name": "Python 3"
    },
    "language_info": {
      "name": "python"
    }
  },
  "cells": [
    {
      "cell_type": "markdown",
      "metadata": {
        "id": "view-in-github",
        "colab_type": "text"
      },
      "source": [
        "<a href=\"https://colab.research.google.com/github/yosoydiegosegura/Diego-Segura-Team-2/blob/main/Analysis_of_Customer_Segmentation_with_RFM.ipynb\" target=\"_parent\"><img src=\"https://colab.research.google.com/assets/colab-badge.svg\" alt=\"Open In Colab\"/></a>"
      ]
    },
    {
      "cell_type": "markdown",
      "source": [
        "### **RFM Analysis for Customer Segmentation and Cohort Analysis**\n",
        "\n",
        "\n",
        "Anthony Yabuki, Amriha Farswani, Diego Segura, Hajira Z. Husain (Juju)"
      ],
      "metadata": {
        "id": "-AGnV-ezBF9C"
      }
    },
    {
      "cell_type": "markdown",
      "source": [
        "**Problem Definition:**"
      ],
      "metadata": {
        "id": "vTk4acYmg01r"
      }
    },
    {
      "cell_type": "markdown",
      "source": [
        "This project aims to perform cohort analysis and customer segmentation using RFM (Recency, Frequency, Monetary) analysis to gain insights into customer behavior and identify actionable business opportunities. The project involves creating cohort groups, calculating cohort periods, and analyzing customer behavior based on Recency, Frequency, and Monetary value. The analysis will provide insights into customer retention, churn rate, and customer lifetime value.\n"
      ],
      "metadata": {
        "id": "AXqybecmF7lv"
      }
    },
    {
      "cell_type": "markdown",
      "source": [
        "**Data description:**"
      ],
      "metadata": {
        "id": "pH3X-jDwgAWx"
      }
    },
    {
      "cell_type": "markdown",
      "source": [
        "The dataset used in this project is a transnational data set containing transactions occurring between 01/12/2010 and 09/12/2011 for a UK-based, non-store online retail company. The company primarily sells unique all-occasion gifts, with many of their customers being wholesalers. The dataset comprises 541,909 instances, including 8 attributes: InvoiceNo, StockCode, Description, Quantity, InvoiceDate, UnitPrice, CustomerID, and Country."
      ],
      "metadata": {
        "id": "xLPTfPlzGBtm"
      }
    },
    {
      "cell_type": "markdown",
      "source": [
        "**Attribute Information:**\n",
        "\n"
      ],
      "metadata": {
        "id": "wY2dueQqz8XI"
      }
    },
    {
      "cell_type": "markdown",
      "source": [
        "**InvoiceNo:** Invoice number. Nominal, a 6-digit integral number uniquely assigned to each transaction. If this code starts with letter 'c', it indicates a cancellation.\n",
        "\n",
        "**StockCode:** Product (item) code. Nominal, a 5-digit integral number uniquely assigned to each distinct product.\n",
        "\n",
        "**Description:** Product (item) name. Nominal.\n",
        "\n",
        "**Quantity:** The quantities of each product (item) per transaction. Numeric.\n",
        "\n",
        "**InvoiceDate:** Invice Date and time. Numeric, the day and time when each transaction was generated.\n",
        "\n",
        "**UnitPrice:** Unit price. Numeric, Product price per unit in sterling.\n",
        "\n",
        "**CustomerID:** Customer number. Nominal, a 5-digit integral number uniquely assigned to each customer.\n",
        "\n",
        "**Country:** Country name. Nominal, the name of the country where each customer resides."
      ],
      "metadata": {
        "id": "7Ob2uNU8z5Jo"
      }
    },
    {
      "cell_type": "markdown",
      "source": [
        "**Data Source:**"
      ],
      "metadata": {
        "id": "KCqZh9HIjBap"
      }
    },
    {
      "cell_type": "markdown",
      "source": [
        "The data is sourced from the UCI Machine Learning Repository and Kaggle:https://archive.ics.uci.edu/ml/datasets/Online+Retail#\\nhttps://www.kaggle.com/datasets/jihyeseo/online-retail-data-set-from-uci-ml-repo\n",
        "\n",
        "The dataset was donated by Dr. Daqing Chen, Director of the Public Analytics group at the School of Engineering, London South Bank University, UK."
      ],
      "metadata": {
        "id": "uVyq183NGHyy"
      }
    },
    {
      "cell_type": "markdown",
      "source": [
        "**Problem Importance:**"
      ],
      "metadata": {
        "id": "ODhHizSAjYOh"
      }
    },
    {
      "cell_type": "markdown",
      "source": [
        "The problem of cohort analysis and customer segmentation using RFM (Recency, Frequency, Monetary) analysis is vital for businesses, as it offers valuable insights into customer behavior, enabling the identification of actionable business opportunities. By analyzing customer behavior based on Recency, Frequency, and Monetary value, businesses can gain a deeper understanding of customer retention, churn rate, and customer lifetime value.The ability to identify high-value customers and design tailor-made services for specific customer segments can lead to increased revenue and customer loyalty. Moreover, understanding customer behavior and preferences enables businesses to optimize their marketing strategies, allocate resources effectively, and ultimately enhance overall business performance."
      ],
      "metadata": {
        "id": "sY19S7PrGMOv"
      }
    },
    {
      "cell_type": "markdown",
      "source": [
        "**Introduction & Motivation**"
      ],
      "metadata": {
        "id": "UM2OisUHFRSY"
      }
    },
    {
      "cell_type": "markdown",
      "source": [
        "Customer retention and understanding customer behavior are essential for the success of any business. The ability to identify high-value customers and design custom-made services for specific customer segments can lead to increased revenue and customer loyalty. Our analysis takes a deep dive into customer segmentation using Recency, Frequency, and Monetary. Which is helpful in any industry to track trends and customer behavior. We believe this customer analysis is valuable to understand in our careers as business leaders."
      ],
      "metadata": {
        "id": "UgEqunqMFeeV"
      }
    },
    {
      "cell_type": "markdown",
      "source": [
        "**Libraries:**"
      ],
      "metadata": {
        "id": "pLqUePUulBRF"
      }
    },
    {
      "cell_type": "code",
      "source": [
        "import pandas as pd\n",
        "import numpy as np\n",
        "import matplotlib.pyplot as plt\n",
        "import seaborn as sns\n"
      ],
      "metadata": {
        "id": "TbLe_Im9lFlJ"
      },
      "execution_count": null,
      "outputs": []
    },
    {
      "cell_type": "markdown",
      "source": [
        "**Dataset into a Pandas DataFrame:**"
      ],
      "metadata": {
        "id": "-qlh5YMolLnT"
      }
    },
    {
      "cell_type": "code",
      "source": [
        "url = \"https://archive.ics.uci.edu/ml/machine-learning-databases/00352/Online%20Retail.xlsx\"\n",
        "df = pd.read_excel(url)\n"
      ],
      "metadata": {
        "id": "L1YssjohlS7m"
      },
      "execution_count": null,
      "outputs": []
    },
    {
      "cell_type": "markdown",
      "source": [
        "**About the dataset:**"
      ],
      "metadata": {
        "id": "tDqObqW42oAH"
      }
    },
    {
      "cell_type": "code",
      "source": [
        "print(f\"Dataset shape: {df.shape}\")\n",
        "print(df.dtypes)\n",
        "print(df.isnull().sum())\n",
        "print(df.describe())"
      ],
      "metadata": {
        "id": "Hog7L-T31wvN",
        "colab": {
          "base_uri": "https://localhost:8080/"
        },
        "outputId": "8a993dc7-ab1c-4951-b8a0-ecbefe69c599"
      },
      "execution_count": null,
      "outputs": [
        {
          "output_type": "stream",
          "name": "stdout",
          "text": [
            "Dataset shape: (541909, 8)\n",
            "InvoiceNo              object\n",
            "StockCode              object\n",
            "Description            object\n",
            "Quantity                int64\n",
            "InvoiceDate    datetime64[ns]\n",
            "UnitPrice             float64\n",
            "CustomerID            float64\n",
            "Country                object\n",
            "dtype: object\n",
            "InvoiceNo           0\n",
            "StockCode           0\n",
            "Description      1454\n",
            "Quantity            0\n",
            "InvoiceDate         0\n",
            "UnitPrice           0\n",
            "CustomerID     135080\n",
            "Country             0\n",
            "dtype: int64\n",
            "            Quantity      UnitPrice     CustomerID\n",
            "count  541909.000000  541909.000000  406829.000000\n",
            "mean        9.552250       4.611114   15287.690570\n",
            "std       218.081158      96.759853    1713.600303\n",
            "min    -80995.000000  -11062.060000   12346.000000\n",
            "25%         1.000000       1.250000   13953.000000\n",
            "50%         3.000000       2.080000   15152.000000\n",
            "75%        10.000000       4.130000   16791.000000\n",
            "max     80995.000000   38970.000000   18287.000000\n"
          ]
        }
      ]
    },
    {
      "cell_type": "markdown",
      "source": [
        "**Data cleaning:**"
      ],
      "metadata": {
        "id": "EkWzAQghmz3T"
      }
    },
    {
      "cell_type": "code",
      "source": [
        "#Check for missing values: identify the presence of missing values in the dataset.\n",
        "df.isnull().sum()\n",
        "\n",
        "#Remove rows with missing values: 'CustomerID' is crucial for the RFM analysis, and rows with missing 'CustomerID' values cannot be used in the analysis.\n",
        "df.dropna(subset=['CustomerID'], inplace=True)\n",
        "\n",
        "#Check for duplicates: Duplicate rows can affect the accuracy of the analysis and lead to misleading results.\n",
        "df.duplicated().sum()\n",
        "\n",
        "#Remove duplicates: This improves the reliability of the analysis and prevents potential issues arising from duplicated data.\n",
        "df.drop_duplicates(inplace=True)\n",
        "\n",
        "#Convert InvoiceDate to datetime data type: enable easier manipulation and analysis of date-related information.\n",
        "df['InvoiceDate'] = pd.to_datetime(df['InvoiceDate'])\n",
        "\n",
        "#Remove negative values in 'Quantity' and 'UnitPrice': By removing rows with negative values, we can ensure that the analysis only considers valid transactions.\n",
        "df = df[df['Quantity'] > 0]\n",
        "df = df[df['UnitPrice'] > 0]\n",
        "\n"
      ],
      "metadata": {
        "id": "G-YAS45Umj9b"
      },
      "execution_count": null,
      "outputs": []
    },
    {
      "cell_type": "markdown",
      "source": [
        "**Insights into customer behavior and RFM analysis**"
      ],
      "metadata": {
        "id": "puyPABGurHyi"
      }
    },
    {
      "cell_type": "code",
      "source": [
        "# What is the distribution of Recency, Frequency, and Monetary value?\n",
        "\n",
        "# Calculate the Monetary value\n",
        "monetary_value = df.groupby('CustomerID').agg({'UnitPrice': lambda x: sum(x * df.loc[x.index, 'Quantity'])})\n",
        "\n",
        "# Calculate the Frequency value\n",
        "frequency_value = df.groupby('CustomerID').agg({'InvoiceNo': 'nunique'})\n",
        "\n",
        "# Calculate the Recency value\n",
        "max_date = df['InvoiceDate'].max()\n",
        "recency_value = df.groupby('CustomerID').agg({'InvoiceDate': lambda x: (max_date - x.max()).days})\n",
        "\n",
        "# Combine the values into a single DataFrame\n",
        "rfm = pd.DataFrame({'Recency': recency_value['InvoiceDate'], 'Frequency': frequency_value['InvoiceNo'], 'Monetary': monetary_value['UnitPrice']})\n",
        "\n",
        "rfm.describe()"
      ],
      "metadata": {
        "id": "e2Z3SEXcr4Uf",
        "colab": {
          "base_uri": "https://localhost:8080/",
          "height": 300
        },
        "outputId": "49803edf-4dfb-4bb4-a8ce-2e144f038f6d"
      },
      "execution_count": null,
      "outputs": [
        {
          "output_type": "execute_result",
          "data": {
            "text/plain": [
              "           Recency    Frequency       Monetary\n",
              "count  4338.000000  4338.000000    4338.000000\n",
              "mean     91.536422     4.272015    2048.688081\n",
              "std     100.014169     7.697998    8985.230220\n",
              "min       0.000000     1.000000       3.750000\n",
              "25%      17.000000     1.000000     306.482500\n",
              "50%      50.000000     2.000000     668.570000\n",
              "75%     141.000000     5.000000    1660.597500\n",
              "max     373.000000   209.000000  280206.020000"
            ],
            "text/html": [
              "\n",
              "  <div id=\"df-952e7091-5c14-4b5d-af09-df59d6552ef1\">\n",
              "    <div class=\"colab-df-container\">\n",
              "      <div>\n",
              "<style scoped>\n",
              "    .dataframe tbody tr th:only-of-type {\n",
              "        vertical-align: middle;\n",
              "    }\n",
              "\n",
              "    .dataframe tbody tr th {\n",
              "        vertical-align: top;\n",
              "    }\n",
              "\n",
              "    .dataframe thead th {\n",
              "        text-align: right;\n",
              "    }\n",
              "</style>\n",
              "<table border=\"1\" class=\"dataframe\">\n",
              "  <thead>\n",
              "    <tr style=\"text-align: right;\">\n",
              "      <th></th>\n",
              "      <th>Recency</th>\n",
              "      <th>Frequency</th>\n",
              "      <th>Monetary</th>\n",
              "    </tr>\n",
              "  </thead>\n",
              "  <tbody>\n",
              "    <tr>\n",
              "      <th>count</th>\n",
              "      <td>4338.000000</td>\n",
              "      <td>4338.000000</td>\n",
              "      <td>4338.000000</td>\n",
              "    </tr>\n",
              "    <tr>\n",
              "      <th>mean</th>\n",
              "      <td>91.536422</td>\n",
              "      <td>4.272015</td>\n",
              "      <td>2048.688081</td>\n",
              "    </tr>\n",
              "    <tr>\n",
              "      <th>std</th>\n",
              "      <td>100.014169</td>\n",
              "      <td>7.697998</td>\n",
              "      <td>8985.230220</td>\n",
              "    </tr>\n",
              "    <tr>\n",
              "      <th>min</th>\n",
              "      <td>0.000000</td>\n",
              "      <td>1.000000</td>\n",
              "      <td>3.750000</td>\n",
              "    </tr>\n",
              "    <tr>\n",
              "      <th>25%</th>\n",
              "      <td>17.000000</td>\n",
              "      <td>1.000000</td>\n",
              "      <td>306.482500</td>\n",
              "    </tr>\n",
              "    <tr>\n",
              "      <th>50%</th>\n",
              "      <td>50.000000</td>\n",
              "      <td>2.000000</td>\n",
              "      <td>668.570000</td>\n",
              "    </tr>\n",
              "    <tr>\n",
              "      <th>75%</th>\n",
              "      <td>141.000000</td>\n",
              "      <td>5.000000</td>\n",
              "      <td>1660.597500</td>\n",
              "    </tr>\n",
              "    <tr>\n",
              "      <th>max</th>\n",
              "      <td>373.000000</td>\n",
              "      <td>209.000000</td>\n",
              "      <td>280206.020000</td>\n",
              "    </tr>\n",
              "  </tbody>\n",
              "</table>\n",
              "</div>\n",
              "      <button class=\"colab-df-convert\" onclick=\"convertToInteractive('df-952e7091-5c14-4b5d-af09-df59d6552ef1')\"\n",
              "              title=\"Convert this dataframe to an interactive table.\"\n",
              "              style=\"display:none;\">\n",
              "        \n",
              "  <svg xmlns=\"http://www.w3.org/2000/svg\" height=\"24px\"viewBox=\"0 0 24 24\"\n",
              "       width=\"24px\">\n",
              "    <path d=\"M0 0h24v24H0V0z\" fill=\"none\"/>\n",
              "    <path d=\"M18.56 5.44l.94 2.06.94-2.06 2.06-.94-2.06-.94-.94-2.06-.94 2.06-2.06.94zm-11 1L8.5 8.5l.94-2.06 2.06-.94-2.06-.94L8.5 2.5l-.94 2.06-2.06.94zm10 10l.94 2.06.94-2.06 2.06-.94-2.06-.94-.94-2.06-.94 2.06-2.06.94z\"/><path d=\"M17.41 7.96l-1.37-1.37c-.4-.4-.92-.59-1.43-.59-.52 0-1.04.2-1.43.59L10.3 9.45l-7.72 7.72c-.78.78-.78 2.05 0 2.83L4 21.41c.39.39.9.59 1.41.59.51 0 1.02-.2 1.41-.59l7.78-7.78 2.81-2.81c.8-.78.8-2.07 0-2.86zM5.41 20L4 18.59l7.72-7.72 1.47 1.35L5.41 20z\"/>\n",
              "  </svg>\n",
              "      </button>\n",
              "      \n",
              "  <style>\n",
              "    .colab-df-container {\n",
              "      display:flex;\n",
              "      flex-wrap:wrap;\n",
              "      gap: 12px;\n",
              "    }\n",
              "\n",
              "    .colab-df-convert {\n",
              "      background-color: #E8F0FE;\n",
              "      border: none;\n",
              "      border-radius: 50%;\n",
              "      cursor: pointer;\n",
              "      display: none;\n",
              "      fill: #1967D2;\n",
              "      height: 32px;\n",
              "      padding: 0 0 0 0;\n",
              "      width: 32px;\n",
              "    }\n",
              "\n",
              "    .colab-df-convert:hover {\n",
              "      background-color: #E2EBFA;\n",
              "      box-shadow: 0px 1px 2px rgba(60, 64, 67, 0.3), 0px 1px 3px 1px rgba(60, 64, 67, 0.15);\n",
              "      fill: #174EA6;\n",
              "    }\n",
              "\n",
              "    [theme=dark] .colab-df-convert {\n",
              "      background-color: #3B4455;\n",
              "      fill: #D2E3FC;\n",
              "    }\n",
              "\n",
              "    [theme=dark] .colab-df-convert:hover {\n",
              "      background-color: #434B5C;\n",
              "      box-shadow: 0px 1px 3px 1px rgba(0, 0, 0, 0.15);\n",
              "      filter: drop-shadow(0px 1px 2px rgba(0, 0, 0, 0.3));\n",
              "      fill: #FFFFFF;\n",
              "    }\n",
              "  </style>\n",
              "\n",
              "      <script>\n",
              "        const buttonEl =\n",
              "          document.querySelector('#df-952e7091-5c14-4b5d-af09-df59d6552ef1 button.colab-df-convert');\n",
              "        buttonEl.style.display =\n",
              "          google.colab.kernel.accessAllowed ? 'block' : 'none';\n",
              "\n",
              "        async function convertToInteractive(key) {\n",
              "          const element = document.querySelector('#df-952e7091-5c14-4b5d-af09-df59d6552ef1');\n",
              "          const dataTable =\n",
              "            await google.colab.kernel.invokeFunction('convertToInteractive',\n",
              "                                                     [key], {});\n",
              "          if (!dataTable) return;\n",
              "\n",
              "          const docLinkHtml = 'Like what you see? Visit the ' +\n",
              "            '<a target=\"_blank\" href=https://colab.research.google.com/notebooks/data_table.ipynb>data table notebook</a>'\n",
              "            + ' to learn more about interactive tables.';\n",
              "          element.innerHTML = '';\n",
              "          dataTable['output_type'] = 'display_data';\n",
              "          await google.colab.output.renderOutput(dataTable, element);\n",
              "          const docLink = document.createElement('div');\n",
              "          docLink.innerHTML = docLinkHtml;\n",
              "          element.appendChild(docLink);\n",
              "        }\n",
              "      </script>\n",
              "    </div>\n",
              "  </div>\n",
              "  "
            ]
          },
          "metadata": {},
          "execution_count": 5
        }
      ]
    },
    {
      "cell_type": "markdown",
      "source": [
        "**How many unique customers are there in the dataset?**\n",
        "\n",
        "**What is the average number of transactions per customer?**\n",
        "\n",
        "**What is the average revenue per transaction?**"
      ],
      "metadata": {
        "id": "os3A5wzWJ5ae"
      }
    },
    {
      "cell_type": "code",
      "source": [
        "#How many unique customers are there in the dataset?\n",
        "unique_customers = df['CustomerID'].nunique()\n",
        "print(f\"Number of unique customers: {unique_customers}\")\n",
        "\n",
        "#What is the average number of transactions per customer?\n",
        "avg_transactions_per_customer = df.groupby('CustomerID')['InvoiceNo'].nunique().mean()\n",
        "print(f\"Average number of transactions per customer: {avg_transactions_per_customer:.2f}\")\n",
        "\n",
        "#What is the average revenue per transaction?\n",
        "df['Revenue'] = df['UnitPrice'] * df['Quantity']\n",
        "avg_revenue_per_transaction = df['Revenue'].sum() / df['InvoiceNo'].nunique()\n",
        "print(f\"Average revenue per transaction: {avg_revenue_per_transaction:.2f}\")\n"
      ],
      "metadata": {
        "id": "U9EFfB4EuTEp",
        "colab": {
          "base_uri": "https://localhost:8080/"
        },
        "outputId": "cb09df2f-9818-4007-9d8e-9810163cf998"
      },
      "execution_count": null,
      "outputs": [
        {
          "output_type": "stream",
          "name": "stdout",
          "text": [
            "Number of unique customers: 4338\n",
            "Average number of transactions per customer: 4.27\n",
            "Average revenue per transaction: 479.56\n"
          ]
        }
      ]
    },
    {
      "cell_type": "markdown",
      "source": [
        "**What is the distribution of customers by country?**"
      ],
      "metadata": {
        "id": "LwUUgWt9Jqau"
      }
    },
    {
      "cell_type": "code",
      "source": [
        "#What is the distribution of customers by country?\n",
        "customer_country = df.groupby('Country')['CustomerID'].nunique()\n",
        "print(customer_country)"
      ],
      "metadata": {
        "id": "Daeq3Y2Gu2d_",
        "colab": {
          "base_uri": "https://localhost:8080/"
        },
        "outputId": "35f5cda4-d22e-4dbc-b883-a41fa123a091"
      },
      "execution_count": null,
      "outputs": [
        {
          "output_type": "stream",
          "name": "stdout",
          "text": [
            "Country\n",
            "Australia                  9\n",
            "Austria                   11\n",
            "Bahrain                    2\n",
            "Belgium                   25\n",
            "Brazil                     1\n",
            "Canada                     4\n",
            "Channel Islands            9\n",
            "Cyprus                     8\n",
            "Czech Republic             1\n",
            "Denmark                    9\n",
            "EIRE                       3\n",
            "European Community         1\n",
            "Finland                   12\n",
            "France                    87\n",
            "Germany                   94\n",
            "Greece                     4\n",
            "Iceland                    1\n",
            "Israel                     3\n",
            "Italy                     14\n",
            "Japan                      8\n",
            "Lebanon                    1\n",
            "Lithuania                  1\n",
            "Malta                      2\n",
            "Netherlands                9\n",
            "Norway                    10\n",
            "Poland                     6\n",
            "Portugal                  19\n",
            "RSA                        1\n",
            "Saudi Arabia               1\n",
            "Singapore                  1\n",
            "Spain                     30\n",
            "Sweden                     8\n",
            "Switzerland               21\n",
            "USA                        4\n",
            "United Arab Emirates       2\n",
            "United Kingdom          3920\n",
            "Unspecified                4\n",
            "Name: CustomerID, dtype: int64\n"
          ]
        }
      ]
    },
    {
      "cell_type": "markdown",
      "source": [
        "**What are the top 10 most popular products based on the number of transactions?**"
      ],
      "metadata": {
        "id": "_Y0OM489JXbM"
      }
    },
    {
      "cell_type": "code",
      "source": [
        "#What are the top 10 most popular products based on the number of transactions?\n",
        "top_products = df['Description'].value_counts().head(10)\n",
        "print(top_products)"
      ],
      "metadata": {
        "id": "SOkPqww_u8Uu",
        "colab": {
          "base_uri": "https://localhost:8080/"
        },
        "outputId": "e267c26d-131b-49ea-a381-a431978b393c"
      },
      "execution_count": null,
      "outputs": [
        {
          "output_type": "stream",
          "name": "stdout",
          "text": [
            "WHITE HANGING HEART T-LIGHT HOLDER    2016\n",
            "REGENCY CAKESTAND 3 TIER              1713\n",
            "JUMBO BAG RED RETROSPOT               1615\n",
            "ASSORTED COLOUR BIRD ORNAMENT         1395\n",
            "PARTY BUNTING                         1389\n",
            "LUNCH BAG RED RETROSPOT               1303\n",
            "SET OF 3 CAKE TINS PANTRY DESIGN      1152\n",
            "POSTAGE                               1099\n",
            "LUNCH BAG  BLACK SKULL.               1078\n",
            "PACK OF 72 RETROSPOT CAKE CASES       1050\n",
            "Name: Description, dtype: int64\n"
          ]
        }
      ]
    },
    {
      "cell_type": "markdown",
      "source": [
        "**What are the top 10 most profitable products based on revenue?**"
      ],
      "metadata": {
        "id": "tFA3NptjJN5W"
      }
    },
    {
      "cell_type": "code",
      "source": [
        "#What are the top 10 most profitable products based on revenue?\n",
        "top_revenue_products = df.groupby('Description')['Revenue'].sum().sort_values(ascending=False).head(10)\n",
        "print(top_revenue_products)"
      ],
      "metadata": {
        "id": "npMbTtVXvFLn",
        "colab": {
          "base_uri": "https://localhost:8080/"
        },
        "outputId": "7e036669-d881-4d8a-c7f2-84ae33843017"
      },
      "execution_count": null,
      "outputs": [
        {
          "output_type": "stream",
          "name": "stdout",
          "text": [
            "Description\n",
            "PAPER CRAFT , LITTLE BIRDIE           168469.60\n",
            "REGENCY CAKESTAND 3 TIER              142264.75\n",
            "WHITE HANGING HEART T-LIGHT HOLDER    100392.10\n",
            "JUMBO BAG RED RETROSPOT                85040.54\n",
            "MEDIUM CERAMIC TOP STORAGE JAR         81416.73\n",
            "POSTAGE                                77803.96\n",
            "PARTY BUNTING                          68785.23\n",
            "ASSORTED COLOUR BIRD ORNAMENT          56413.03\n",
            "Manual                                 53419.93\n",
            "RABBIT NIGHT LIGHT                     51251.24\n",
            "Name: Revenue, dtype: float64\n"
          ]
        }
      ]
    },
    {
      "cell_type": "markdown",
      "source": [
        "**What is the average order value per country?**\n",
        "\n",
        "**What are the top 10 countries with the highest average order value?**"
      ],
      "metadata": {
        "id": "NwBSasMeKSPU"
      }
    },
    {
      "cell_type": "code",
      "source": [
        "\n",
        "average_order_value_country = df.groupby('Country')['Revenue'].sum() / df.groupby('Country')['InvoiceNo'].nunique()\n",
        "average_order_value_country.sort_values(ascending=False).head(10)\n",
        "print(average_order_value_country.sort_values(ascending=False).head(10))"
      ],
      "metadata": {
        "id": "XeXDWnZXvMOb",
        "colab": {
          "base_uri": "https://localhost:8080/"
        },
        "outputId": "9caa5010-a4de-4f60-de1d-dade32a08fd3"
      },
      "execution_count": null,
      "outputs": [
        {
          "output_type": "stream",
          "name": "stdout",
          "text": [
            "Country\n",
            "Singapore      3039.898571\n",
            "Netherlands    3036.663191\n",
            "Australia      2429.014211\n",
            "Japan          1969.282632\n",
            "Lebanon        1693.880000\n",
            "Israel         1443.168000\n",
            "Brazil         1143.600000\n",
            "Switzerland    1106.744118\n",
            "Sweden         1065.773056\n",
            "Denmark        1053.074444\n",
            "dtype: float64\n"
          ]
        }
      ]
    },
    {
      "cell_type": "code",
      "source": [
        "#Bar graph displaying top 10 countries with the highest average order value\n",
        "top_10_countries = average_order_value_country.sort_values(ascending=False).head(10)\n",
        "\n",
        "plt.figure()\n",
        "plt.bar(top_10_countries.index, top_10_countries.values)\n",
        "plt.xlabel('Country')\n",
        "plt.ylabel('Average Order Value')\n",
        "plt.title('Top 10 Countries by Average Order Value')\n",
        "plt.xticks(rotation=45, ha='right')\n",
        "plt.tight_layout()\n",
        "plt.show()"
      ],
      "metadata": {
        "id": "kqgmPGmD5IHx",
        "colab": {
          "base_uri": "https://localhost:8080/",
          "height": 487
        },
        "outputId": "e21a9176-f53b-41c6-bdfe-473d46b97880"
      },
      "execution_count": null,
      "outputs": [
        {
          "output_type": "display_data",
          "data": {
            "text/plain": [
              "<Figure size 640x480 with 1 Axes>"
            ],
            "image/png": "[encoded data removed]"
          },
          "metadata": {}
        }
      ]
    },
    {
      "cell_type": "code",
      "source": [
        "#How does the customer count vary across RFM segments (e.g., High Recency, High Frequency, High Monetary)?\n",
        "# Drop missing values in 'InvoiceNo' and 'CustomerID' columns\n",
        "df = df.dropna(subset=['InvoiceNo', 'CustomerID'])\n",
        "\n",
        "# Calculate the TotalPrice column\n",
        "df['TotalPrice'] = df['Quantity'] * df['UnitPrice']\n",
        "\n",
        "# Calculate Recency, Frequency, and Monetary\n",
        "snapshot_date = df['InvoiceDate'].max() + pd.DateOffset(days=1)\n",
        "rfm = df.groupby('CustomerID').agg({\n",
        "    'InvoiceDate': lambda x: (snapshot_date - x.max()).days,\n",
        "    'InvoiceNo': 'nunique',\n",
        "    'TotalPrice': 'sum'\n",
        "}).rename(columns={\n",
        "    'InvoiceDate': 'Recency',\n",
        "    'InvoiceNo': 'Frequency',\n",
        "    'TotalPrice': 'Monetary'\n",
        "})\n",
        "\n",
        "# Define the segments by creating bins based on percentiles\n",
        "rfm['R'] = pd.qcut(rfm['Recency'], 4, labels=list(range(4, 0, -1)))\n",
        "rfm['F'] = pd.cut(rfm['Frequency'], bins=pd.interval_range(start=0, end=rfm['Frequency'].max() + 1, freq=rfm['Frequency'].max() // 4), labels=list(range(1, 5)), include_lowest=True)\n",
        "rfm['M'] = pd.qcut(rfm['Monetary'], 4, labels=list(range(1, 5)))\n",
        "\n",
        "# Calculate the RFM_Score\n",
        "rfm['RFM_Score'] = rfm[['R', 'F', 'M']].sum(axis=1)\n",
        "\n",
        "# Display the RFM DataFrame\n",
        "print(rfm.head())\n",
        "\n",
        "# Plot the distribution of Recency, Frequency, and Monetary values\n",
        "fig, axes = plt.subplots(1, 3, figsize=(15, 3))\n",
        "\n",
        "axes[0].hist(rfm['Recency'], bins=20, color='dodgerblue', edgecolor='k')\n",
        "axes[0].set_title('Recency Distribution')\n",
        "axes[0].set_xlabel('Recency')\n",
        "axes[0].set_ylabel('Frequency')\n",
        "\n",
        "axes[1].hist(rfm['Frequency'], bins=20, color='dodgerblue', edgecolor='k')\n",
        "axes[1].set_title('Frequency Distribution')\n",
        "axes[1].set_xlabel('Frequency')\n",
        "axes[1].set_ylabel('Frequency')\n",
        "\n",
        "axes[2].hist(rfm['Monetary'], bins=20, color='dodgerblue', edgecolor='k')\n",
        "axes[2].set_title('Monetary Distribution')\n",
        "axes[2].set_xlabel('Monetary')\n",
        "axes[2].set_ylabel('Frequency')\n",
        "\n",
        "plt.tight_layout()\n",
        "plt.show()\n",
        "\n",
        "\n"
      ],
      "metadata": {
        "id": "GrwAZQd-vPxB",
        "colab": {
          "base_uri": "https://localhost:8080/",
          "height": 350
        },
        "outputId": "f3d3e8ab-cf4d-43b1-99f4-6f3c894021b3"
      },
      "execution_count": null,
      "outputs": [
        {
          "output_type": "stream",
          "name": "stdout",
          "text": [
            "            Recency  Frequency  Monetary  R        F  M RFM_Score\n",
            "CustomerID                                                       \n",
            "12346.0         326          1  77183.60  1  (0, 52]  4   (5, 57]\n",
            "12347.0           2          7   4310.00  4  (0, 52]  4   (8, 60]\n",
            "12348.0          75          4   1797.24  2  (0, 52]  4   (6, 58]\n",
            "12349.0          19          1   1757.55  3  (0, 52]  4   (7, 59]\n",
            "12350.0         310          1    334.40  1  (0, 52]  2   (3, 55]\n"
          ]
        },
        {
          "output_type": "display_data",
          "data": {
            "text/plain": [
              "<Figure size 1500x300 with 3 Axes>"
            ],
            "image/png": "[encoded data removed]"
          },
          "metadata": {}
        }
      ]
    },
    {
      "cell_type": "code",
      "source": [
        "#What is the percentage of revenue generated by the top 20% of customers (Pareto principle)?\n",
        "top_20_customers = rfm['Monetary'].nlargest(int(0.2 * len(rfm)))\n",
        "top_20_revenue = top_20_customers.sum()\n",
        "total_revenue = rfm['Monetary'].sum()\n",
        "percentage_revenue = (top_20_revenue / total_revenue) * 100\n",
        "print(f\"Percentage of revenue generated by top 20% customers: {percentage_revenue:.2f}%\")"
      ],
      "metadata": {
        "id": "og6BT3eIvROg",
        "colab": {
          "base_uri": "https://localhost:8080/"
        },
        "outputId": "8345dab1-520d-42f7-83d5-d43c070e0bd5"
      },
      "execution_count": null,
      "outputs": [
        {
          "output_type": "stream",
          "name": "stdout",
          "text": [
            "Percentage of revenue generated by top 20% customers: 74.66%\n"
          ]
        }
      ]
    },
    {
      "cell_type": "code",
      "source": [
        "#What are the top 5 most common words in product descriptions?\n",
        "from collections import Counter\n",
        "from string import punctuation\n",
        "\n",
        "product_descriptions = df['Description'].dropna().tolist()\n",
        "word_count = Counter(\" \".join(product_descriptions).translate(str.maketrans(\"\", \"\", punctuation)).split()).most_common(5)\n",
        "print(word_count)"
      ],
      "metadata": {
        "id": "qh2of9EtvSZw",
        "colab": {
          "base_uri": "https://localhost:8080/"
        },
        "outputId": "2b09b5dd-43f4-4c1b-e082-149a32fa7840"
      },
      "execution_count": null,
      "outputs": [
        {
          "output_type": "stream",
          "name": "stdout",
          "text": [
            "[('OF', 40185), ('SET', 40152), ('BAG', 37413), ('RED', 31480), ('HEART', 28906)]\n"
          ]
        }
      ]
    },
    {
      "cell_type": "markdown",
      "source": [
        "**Pareto principle**\n",
        "\n",
        "To determine the percentage of revenue generated by the top 20% of customers."
      ],
      "metadata": {
        "id": "uA-yqPBW8kDv"
      }
    },
    {
      "cell_type": "code",
      "source": [
        "filtered_df = df[df['TotalPrice'] > 0]  \n",
        "\n",
        "# Calculate the total revenue for each customer\n",
        "customer_revenue = filtered_df.groupby('CustomerID')['TotalPrice'].sum().reset_index()\n",
        "\n",
        "# Sort the customers by their total revenue in descending order\n",
        "customer_revenue_sorted = customer_revenue.sort_values('TotalPrice', ascending=False)\n",
        "\n",
        "# Calculate the cumulative revenue for the top 20% of customers\n",
        "top_20_percent_customers = int(0.2 * len(customer_revenue_sorted))\n",
        "top_20_percent_revenue = customer_revenue_sorted.iloc[:top_20_percent_customers]['TotalPrice'].sum()\n",
        "\n",
        "# Calculate the total revenue for all customers\n",
        "total_revenue = customer_revenue_sorted['TotalPrice'].sum()\n",
        "\n",
        "# Calculate the percentage of revenue generated by the top 20% of customers\n",
        "pareto_percentage = (top_20_percent_revenue / total_revenue) * 100\n",
        "\n",
        "print(f\"The top 20% of customers generate {pareto_percentage:.2f}% of the total revenue.\")\n"
      ],
      "metadata": {
        "id": "RxMYjc018RqW",
        "colab": {
          "base_uri": "https://localhost:8080/"
        },
        "outputId": "5798adf4-f950-4237-f21d-abc135459d0d"
      },
      "execution_count": null,
      "outputs": [
        {
          "output_type": "stream",
          "name": "stdout",
          "text": [
            "The top 20% of customers generate 74.66% of the total revenue.\n"
          ]
        }
      ]
    },
    {
      "cell_type": "markdown",
      "source": [
        "**Seasonality**:\n",
        "\n",
        "What is the month with the highest and lowest number of transactions?"
      ],
      "metadata": {
        "id": "Ob3sDIJEEPsM"
      }
    },
    {
      "cell_type": "code",
      "source": [
        "#Extract month and year information from the 'InvoiceDate' column:\n",
        "df['Month'] = df['InvoiceDate'].dt.to_period('M')\n",
        "\n",
        "#Calculate the number of transactions per month:\n",
        "transactions_per_month = df.groupby('Month')['InvoiceNo'].nunique()\n",
        "\n",
        "#Plot the number of transactions per month to visualize seasonality:\n",
        "import matplotlib.pyplot as plt\n",
        "\n",
        "transactions_per_month.plot(kind='bar', figsize=(10, 5))\n",
        "plt.title('Number of Transactions per Month')\n",
        "plt.xlabel('Month')\n",
        "plt.ylabel('Number of Transactions')\n",
        "plt.show()\n",
        "\n",
        "#Calculate the average order value per month:\n",
        "monthly_order_value = df.groupby(['Month', 'InvoiceNo'])['TotalPrice'].sum().reset_index()\n",
        "average_order_value_per_month = monthly_order_value.groupby('Month')['TotalPrice'].mean()\n",
        "\n",
        "#Plot the average order value per month to better understand the relationship between order value and the number of transactions:\n",
        "average_order_value_per_month.plot(kind='bar', figsize=(10, 5))\n",
        "plt.title('Average Order Value per Month')\n",
        "plt.xlabel('Month')\n",
        "plt.ylabel('Average Order Value')\n",
        "plt.show()\n",
        "\n",
        "#Display the table\n",
        "average_order_value_per_month_df = average_order_value_per_month.reset_index()\n",
        "transactions_per_month_df = transactions_per_month.reset_index()\n",
        "monthly_summary = pd.merge(average_order_value_per_month_df, transactions_per_month_df, on='Month', how='inner')\n",
        "monthly_summary.columns = ['Month', 'Average Order Value', 'Number of Transactions']\n",
        "print(monthly_summary)\n",
        "\n",
        "\n"
      ],
      "metadata": {
        "id": "sXRF6iKbEXPS",
        "colab": {
          "base_uri": "https://localhost:8080/",
          "height": 1000
        },
        "outputId": "bcc6b621-5b37-47f2-b0b7-50da6baa16d1"
      },
      "execution_count": null,
      "outputs": [
        {
          "output_type": "display_data",
          "data": {
            "text/plain": [
              "<Figure size 1000x500 with 1 Axes>"
            ],
            "image/png": "[encoded data removed]"
          },
          "metadata": {}
        },
        {
          "output_type": "display_data",
          "data": {
            "text/plain": [
              "<Figure size 1000x500 with 1 Axes>"
            ],
            "image/png": "[encoded data removed]"
          },
          "metadata": {}
        },
        {
          "output_type": "stream",
          "name": "stdout",
          "text": [
            "      Month  Average Order Value  Number of Transactions\n",
            "0   2010-12           407.444807                    1400\n",
            "1   2011-01           575.583901                     987\n",
            "2   2011-02           447.427202                     997\n",
            "3   2011-03           449.721241                    1321\n",
            "4   2011-04           407.636493                    1149\n",
            "5   2011-05           435.598167                    1555\n",
            "6   2011-06           473.830617                    1393\n",
            "7   2011-07           450.009693                    1331\n",
            "8   2011-08           503.164875                    1280\n",
            "9   2011-09           541.703819                    1755\n",
            "10  2011-10           536.880482                    1929\n",
            "11  2011-11           435.154539                    2657\n",
            "12  2011-12           664.769203                     778\n"
          ]
        }
      ]
    },
    {
      "cell_type": "markdown",
      "source": [
        "**Brief Summary of key observations: We can observe several takeaways from our analysis:**"
      ],
      "metadata": {
        "id": "91-BKkZvILoC"
      }
    },
    {
      "cell_type": "markdown",
      "source": [
        "- The United Kingdom has the highest number of unique customers, accounting for 90.37% of the total customer base.\n",
        "\n",
        "- The top 10 most popular products are led by the WHITE HANGING HEART T-LIGHT HOLDER, with 2016 transactions.\n",
        "\n",
        "- The most profitable product is PAPER CRAFT, LITTLE BIRDIE, generating 168,469.60 in revenue.\n",
        "\n",
        "- Singapore has the highest average order value among the top 10 countries, at 3039.90.\n",
        "\n",
        "- The Pareto principle applies to the dataset, with the top 20% of customers generating 74.66% of total revenue.\n",
        "\n",
        "- Four relevant common words in product descriptions include \"SET,\" \"RED,\" \"HEART,\" and \"BAG.\"\n",
        "\n",
        "- Transactions increase leading up to October and November, likely due to the holiday season.\n",
        "\n",
        "- The average order value peaks in December 2011, indicating customers make larger purchases during the holidays.\n",
        "\n",
        "- There is a drop in transactions and average order value in January and February, possibly due to post-holiday spending fatigue.\n",
        "\n",
        "- Insights from this analysis can be used to optimize marketing strategies, allocate resources effectively, and enhance overall business performance.\n",
        "\n",
        "- This project aims to perform cohort analysis and customer \n",
        "segmentation using RFM (Recency, Frequency, Monetary) analysis to gain insights into customer behavior and identify actionable business opportunities.\n",
        "\n",
        "- The dataset used in this project is a transnational data set containing transactions occurring between 01/12/2010 and 09/12/2011 for a UK-based, non-store online retail company. The dataset comprises 541,909 instances, including 8 attributes.\n",
        "\n",
        "- By analyzing customer behavior based on Recency, Frequency, and Monetary value, businesses can gain a deeper understanding of customer retention, churn rate, and customer lifetime value.\n",
        "\n",
        "- The ability to identify high-value customers and design tailor-made services for specific customer segments can lead to increased revenue and customer loyalty.\n",
        "\n",
        "- There are 4372 unique customers in the dataset. The average number of transactions per customer is 5.08. The average revenue per transaction is 373.07.\n",
        "\n",
        "- The majority of customers in the dataset are from the United Kingdom. Some of the European countries with lower customer numbers (Greece with 4) - are on par with countries with a bigger population- like the US with also 4. We can decipher that the conversion rate is better in that region. Our most popular region is Europe, with the UK bringing in around 3950 customers.\n",
        " \n",
        "\n",
        "\n",
        "\n"
      ],
      "metadata": {
        "id": "ecLjEGBdwEJy"
      }
    },
    {
      "cell_type": "markdown",
      "source": [
        "**Challenges**"
      ],
      "metadata": {
        "id": "jZhcyCEFLPIF"
      }
    },
    {
      "cell_type": "markdown",
      "source": [
        "We were confronted with the task of effectively presenting our data, and we approached this challenge by adopting the perspective of an online retailer. By considering what we would want to see in order to enhance our website and sales data, we were able to overcome this question."
      ],
      "metadata": {
        "id": "UuCLy5f8LUAM"
      }
    },
    {
      "cell_type": "markdown",
      "source": [
        "**Conclusion**"
      ],
      "metadata": {
        "id": "9fPx14TzH4e3"
      }
    },
    {
      "cell_type": "markdown",
      "source": [
        "In conclusion, this project utilized RFM analysis to perform cohort analysis and customer segmentation on a transnational data set containing transactions of a UK-based, non-store online retail company. The analysis provided valuable insights into customer behavior, including customer retention, churn rate, and customer lifetime value, enabling the identification of actionable business opportunities.\n",
        "\n",
        "One key insight drawn from our analysis is the application of the Pareto principle, which revealed that the top 20% of customers generate 74.66% of the total revenue. This finding emphasizes the importance of understanding and catering to high-value customers to optimize marketing strategies, improve customer loyalty, and enhance overall performance.\n",
        "\n",
        "The Pareto principle's importance in our analysis highlights the need for effective customer segmentation and the prioritization of resources. By focusing on high-value customers, businesses can allocate marketing budgets, customer support, and other resources more efficiently, leading to a higher return on investment. Furthermore, recognizing that a significant portion of revenue comes from a smaller percentage of customers allows businesses to concentrate on initiatives that drive profitability and improve overall efficiency.\n",
        "\n",
        "Our data analysis project identified five common words in product descriptions, four of which are relevant to understanding customer preferences and the product landscape: \"SET,\" \"RED,\" \"HEART,\" and \"BAG.\" The fifth word, \"OF,\" is considered irrelevant as it does not provide any specific insight into the products themselves. The relevant common words offer valuable information about the types of products that are popular or frequently purchased. This understanding can inform marketing campaigns, product development strategies, and inventory management to align with customer preferences.\n",
        "\n",
        "The data shows that there is an increase in the number of transactions leading up to October and November, possibly due to the approaching holiday season. Consequently, businesses can anticipate higher customer engagement during these months and plan their marketing strategies and inventory accordingly. Additionally, the average order value reaches its highest point in December 2011, further supporting the idea that customers are more likely to make larger purchases during the holiday season.\n",
        "\n",
        "However, there is a drop in the number of transactions and average order value in the months following the holiday season, particularly in January and February. This trend suggests that customers are less engaged with the business during these months, possibly due to post-holiday spending fatigue. As a result, businesses might consider implementing promotional campaigns or special offers during these periods to maintain customer engagement and boost sales.\n",
        "\n",
        "\n",
        "The insights gained from this analysis can assist businesses in identifying high-value customers, designing tailor-made services for specific customer segments, optimizing marketing strategies, allocating resources effectively, and ultimately enhancing overall business performance."
      ],
      "metadata": {
        "id": "wiKcNexsMJh3"
      }
    },
    {
      "cell_type": "markdown",
      "source": [
        " **Citation**"
      ],
      "metadata": {
        "id": "rPZp6ttKGsZO"
      }
    },
    {
      "cell_type": "markdown",
      "source": [
        "Murphy, C. (2023, January 19). What is recency, Frequency, monetary value (RFM) in marketing? Investopedia., from https://www.investopedia.com/terms/r/rfm-recency-frequency-monetary-value.asp \n",
        "\n",
        "Chat.openai.com. (n.d.). Retrieved from https://chat.openai.com/ \n",
        "\n",
        "The data is sourced from the UCI Machine Learning Repository and Kaggle:https://archive.ics.uci.edu/ml/datasets/Online+Retail#\\nhttps://www.kaggle.com/datasets/jihyeseo/online-retail-data-set-from-uci-ml-repo\n",
        "\n",
        "The dataset was donated by Dr. Daqing Chen, Director of the Public Analytics group at the School of Engineering, London South Bank University, UK.\n",
        "\n"
      ],
      "metadata": {
        "id": "wMwowVitHqz1"
      }
    }
  ]
}